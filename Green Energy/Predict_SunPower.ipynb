{
 "cells": [
  {
   "cell_type": "markdown",
   "metadata": {},
   "source": [
    "# Predict Sun Power by Scikit Learn\n",
    "* scikit learn\n",
    "* pandas\n",
    "* numpy"
   ]
  },
  {
   "cell_type": "code",
   "execution_count": 17,
   "metadata": {},
   "outputs": [],
   "source": [
    "import pandas as pd\n",
    "import numpy as np"
   ]
  },
  {
   "cell_type": "code",
   "execution_count": 2,
   "metadata": {},
   "outputs": [
    {
     "name": "stdout",
     "output_type": "stream",
     "text": [
      "訓練檔案總資料數量 :  46\n"
     ]
    },
    {
     "data": {
      "text/html": [
       "<div>\n",
       "<style scoped>\n",
       "    .dataframe tbody tr th:only-of-type {\n",
       "        vertical-align: middle;\n",
       "    }\n",
       "\n",
       "    .dataframe tbody tr th {\n",
       "        vertical-align: top;\n",
       "    }\n",
       "\n",
       "    .dataframe thead th {\n",
       "        text-align: right;\n",
       "    }\n",
       "</style>\n",
       "<table border=\"1\" class=\"dataframe\">\n",
       "  <thead>\n",
       "    <tr style=\"text-align: right;\">\n",
       "      <th></th>\n",
       "      <th>datetime</th>\n",
       "      <th>AtPressure</th>\n",
       "      <th>CO2</th>\n",
       "      <th>Current</th>\n",
       "      <th>Humidity</th>\n",
       "      <th>Infrared</th>\n",
       "      <th>Luminance</th>\n",
       "      <th>Temperature</th>\n",
       "      <th>UV</th>\n",
       "      <th>Volt</th>\n",
       "      <th>Power</th>\n",
       "    </tr>\n",
       "  </thead>\n",
       "  <tbody>\n",
       "    <tr>\n",
       "      <th>0</th>\n",
       "      <td>2020/3/31 17:00</td>\n",
       "      <td>1005.75</td>\n",
       "      <td>408.475433</td>\n",
       "      <td>None</td>\n",
       "      <td>47.5068359</td>\n",
       "      <td>7048</td>\n",
       "      <td>7096</td>\n",
       "      <td>None</td>\n",
       "      <td>None</td>\n",
       "      <td>12.6285456</td>\n",
       "      <td>118.275862</td>\n",
       "    </tr>\n",
       "    <tr>\n",
       "      <th>1</th>\n",
       "      <td>2020/3/31 18:00</td>\n",
       "      <td>None</td>\n",
       "      <td>None</td>\n",
       "      <td>-14.611111</td>\n",
       "      <td>None</td>\n",
       "      <td>None</td>\n",
       "      <td>None</td>\n",
       "      <td>None</td>\n",
       "      <td>None</td>\n",
       "      <td>12.6190109</td>\n",
       "      <td>187.333333</td>\n",
       "    </tr>\n",
       "    <tr>\n",
       "      <th>2</th>\n",
       "      <td>2020/4/1 12:00</td>\n",
       "      <td>1008.46997</td>\n",
       "      <td>419.59877</td>\n",
       "      <td>117</td>\n",
       "      <td>47.0610352</td>\n",
       "      <td>81940</td>\n",
       "      <td>79519</td>\n",
       "      <td>32.1000004</td>\n",
       "      <td>6.48500013</td>\n",
       "      <td>12.5633332</td>\n",
       "      <td>1480</td>\n",
       "    </tr>\n",
       "    <tr>\n",
       "      <th>3</th>\n",
       "      <td>2020/4/1 14:00</td>\n",
       "      <td>1006.45793</td>\n",
       "      <td>416.816927</td>\n",
       "      <td>123.849057</td>\n",
       "      <td>46.7324555</td>\n",
       "      <td>48422.4138</td>\n",
       "      <td>46620.5517</td>\n",
       "      <td>31.797931</td>\n",
       "      <td>3.7989655</td>\n",
       "      <td>12.5879246</td>\n",
       "      <td>1557.35849</td>\n",
       "    </tr>\n",
       "    <tr>\n",
       "      <th>4</th>\n",
       "      <td>2020/4/1 15:00</td>\n",
       "      <td>1006.40341</td>\n",
       "      <td>417.81227</td>\n",
       "      <td>112.073446</td>\n",
       "      <td>45.4353082</td>\n",
       "      <td>37417.4444</td>\n",
       "      <td>33876.1667</td>\n",
       "      <td>31.9553331</td>\n",
       "      <td>2.76056181</td>\n",
       "      <td>12.5716382</td>\n",
       "      <td>1408.47458</td>\n",
       "    </tr>\n",
       "  </tbody>\n",
       "</table>\n",
       "</div>"
      ],
      "text/plain": [
       "          datetime  AtPressure         CO2     Current    Humidity  \\\n",
       "0  2020/3/31 17:00     1005.75  408.475433        None  47.5068359   \n",
       "1  2020/3/31 18:00        None        None  -14.611111        None   \n",
       "2   2020/4/1 12:00  1008.46997   419.59877         117  47.0610352   \n",
       "3   2020/4/1 14:00  1006.45793  416.816927  123.849057  46.7324555   \n",
       "4   2020/4/1 15:00  1006.40341   417.81227  112.073446  45.4353082   \n",
       "\n",
       "     Infrared   Luminance Temperature          UV        Volt       Power  \n",
       "0        7048        7096        None        None  12.6285456  118.275862  \n",
       "1        None        None        None        None  12.6190109  187.333333  \n",
       "2       81940       79519  32.1000004  6.48500013  12.5633332        1480  \n",
       "3  48422.4138  46620.5517   31.797931   3.7989655  12.5879246  1557.35849  \n",
       "4  37417.4444  33876.1667  31.9553331  2.76056181  12.5716382  1408.47458  "
      ]
     },
     "execution_count": 2,
     "metadata": {},
     "output_type": "execute_result"
    }
   ],
   "source": [
    "data = 'sun.csv'\n",
    "df = pd.read_csv(data)\n",
    "print(\"訓練檔案總資料數量 : \",df.shape[0])\n",
    "df.head()"
   ]
  },
  {
   "cell_type": "code",
   "execution_count": 3,
   "metadata": {},
   "outputs": [
    {
     "name": "stdout",
     "output_type": "stream",
     "text": [
      "刪除第一個column :'datetime'\n"
     ]
    },
    {
     "data": {
      "text/html": [
       "<div>\n",
       "<style scoped>\n",
       "    .dataframe tbody tr th:only-of-type {\n",
       "        vertical-align: middle;\n",
       "    }\n",
       "\n",
       "    .dataframe tbody tr th {\n",
       "        vertical-align: top;\n",
       "    }\n",
       "\n",
       "    .dataframe thead th {\n",
       "        text-align: right;\n",
       "    }\n",
       "</style>\n",
       "<table border=\"1\" class=\"dataframe\">\n",
       "  <thead>\n",
       "    <tr style=\"text-align: right;\">\n",
       "      <th></th>\n",
       "      <th>AtPressure</th>\n",
       "      <th>CO2</th>\n",
       "      <th>Current</th>\n",
       "      <th>Humidity</th>\n",
       "      <th>Infrared</th>\n",
       "      <th>Luminance</th>\n",
       "      <th>Temperature</th>\n",
       "      <th>UV</th>\n",
       "      <th>Volt</th>\n",
       "      <th>Power</th>\n",
       "    </tr>\n",
       "  </thead>\n",
       "  <tbody>\n",
       "    <tr>\n",
       "      <th>0</th>\n",
       "      <td>1005.75</td>\n",
       "      <td>408.475433</td>\n",
       "      <td>None</td>\n",
       "      <td>47.5068359</td>\n",
       "      <td>7048</td>\n",
       "      <td>7096</td>\n",
       "      <td>None</td>\n",
       "      <td>None</td>\n",
       "      <td>12.6285456</td>\n",
       "      <td>118.275862</td>\n",
       "    </tr>\n",
       "    <tr>\n",
       "      <th>1</th>\n",
       "      <td>None</td>\n",
       "      <td>None</td>\n",
       "      <td>-14.611111</td>\n",
       "      <td>None</td>\n",
       "      <td>None</td>\n",
       "      <td>None</td>\n",
       "      <td>None</td>\n",
       "      <td>None</td>\n",
       "      <td>12.6190109</td>\n",
       "      <td>187.333333</td>\n",
       "    </tr>\n",
       "    <tr>\n",
       "      <th>2</th>\n",
       "      <td>1008.46997</td>\n",
       "      <td>419.59877</td>\n",
       "      <td>117</td>\n",
       "      <td>47.0610352</td>\n",
       "      <td>81940</td>\n",
       "      <td>79519</td>\n",
       "      <td>32.1000004</td>\n",
       "      <td>6.48500013</td>\n",
       "      <td>12.5633332</td>\n",
       "      <td>1480</td>\n",
       "    </tr>\n",
       "    <tr>\n",
       "      <th>3</th>\n",
       "      <td>1006.45793</td>\n",
       "      <td>416.816927</td>\n",
       "      <td>123.849057</td>\n",
       "      <td>46.7324555</td>\n",
       "      <td>48422.4138</td>\n",
       "      <td>46620.5517</td>\n",
       "      <td>31.797931</td>\n",
       "      <td>3.7989655</td>\n",
       "      <td>12.5879246</td>\n",
       "      <td>1557.35849</td>\n",
       "    </tr>\n",
       "    <tr>\n",
       "      <th>4</th>\n",
       "      <td>1006.40341</td>\n",
       "      <td>417.81227</td>\n",
       "      <td>112.073446</td>\n",
       "      <td>45.4353082</td>\n",
       "      <td>37417.4444</td>\n",
       "      <td>33876.1667</td>\n",
       "      <td>31.9553331</td>\n",
       "      <td>2.76056181</td>\n",
       "      <td>12.5716382</td>\n",
       "      <td>1408.47458</td>\n",
       "    </tr>\n",
       "  </tbody>\n",
       "</table>\n",
       "</div>"
      ],
      "text/plain": [
       "   AtPressure         CO2     Current    Humidity    Infrared   Luminance  \\\n",
       "0     1005.75  408.475433        None  47.5068359        7048        7096   \n",
       "1        None        None  -14.611111        None        None        None   \n",
       "2  1008.46997   419.59877         117  47.0610352       81940       79519   \n",
       "3  1006.45793  416.816927  123.849057  46.7324555  48422.4138  46620.5517   \n",
       "4  1006.40341   417.81227  112.073446  45.4353082  37417.4444  33876.1667   \n",
       "\n",
       "  Temperature          UV        Volt       Power  \n",
       "0        None        None  12.6285456  118.275862  \n",
       "1        None        None  12.6190109  187.333333  \n",
       "2  32.1000004  6.48500013  12.5633332        1480  \n",
       "3   31.797931   3.7989655  12.5879246  1557.35849  \n",
       "4  31.9553331  2.76056181  12.5716382  1408.47458  "
      ]
     },
     "execution_count": 3,
     "metadata": {},
     "output_type": "execute_result"
    }
   ],
   "source": [
    "print(\"刪除第一個column :'datetime'\")\n",
    "df.pop('datetime')\n",
    "df.head()"
   ]
  },
  {
   "cell_type": "code",
   "execution_count": 4,
   "metadata": {},
   "outputs": [
    {
     "name": "stdout",
     "output_type": "stream",
     "text": [
      "刪除Power為None的資料..\n",
      "剩餘資料數： (46, 10)\n",
      "刪除factor為None的資料..\n",
      "剩餘資料數： (33, 10)\n"
     ]
    }
   ],
   "source": [
    "print(\"刪除Power為None的資料..\")\n",
    "df = df.replace('None',np.nan)\n",
    "df = df[df.Power != 'None']\n",
    "print(\"剩餘資料數：\",df.shape)\n",
    "print(\"刪除factor為None的資料..\")\n",
    "df = df.dropna()\n",
    "print(\"剩餘資料數：\",df.shape)"
   ]
  },
  {
   "cell_type": "code",
   "execution_count": 5,
   "metadata": {},
   "outputs": [
    {
     "data": {
      "text/plain": [
       "AtPressure     float64\n",
       "CO2            float64\n",
       "Current        float64\n",
       "Humidity       float64\n",
       "Infrared       float64\n",
       "Luminance      float64\n",
       "Temperature    float64\n",
       "UV             float64\n",
       "Volt           float64\n",
       "Power          float64\n",
       "dtype: object"
      ]
     },
     "execution_count": 5,
     "metadata": {},
     "output_type": "execute_result"
    }
   ],
   "source": [
    "df = df.astype(float)\n",
    "df.dtypes"
   ]
  },
  {
   "cell_type": "code",
   "execution_count": null,
   "metadata": {},
   "outputs": [],
   "source": []
  },
  {
   "cell_type": "markdown",
   "metadata": {},
   "source": [
    "### Split Data"
   ]
  },
  {
   "cell_type": "code",
   "execution_count": 6,
   "metadata": {},
   "outputs": [],
   "source": [
    "from sklearn.model_selection import train_test_split"
   ]
  },
  {
   "cell_type": "code",
   "execution_count": 7,
   "metadata": {},
   "outputs": [],
   "source": [
    "x = df.iloc[:,0:9].values\n",
    "y = df['Power'].values"
   ]
  },
  {
   "cell_type": "code",
   "execution_count": 8,
   "metadata": {},
   "outputs": [
    {
     "name": "stdout",
     "output_type": "stream",
     "text": [
      "訓練資料： 26\n",
      "預測資料： 7\n"
     ]
    }
   ],
   "source": [
    "X_train, X_test, y_train, y_test = train_test_split(x, y, test_size=0.2)\n",
    "print('訓練資料：',len(X_train))\n",
    "print('預測資料：',len(X_test))"
   ]
  },
  {
   "cell_type": "markdown",
   "metadata": {},
   "source": [
    "### SKLearn Regression"
   ]
  },
  {
   "cell_type": "code",
   "execution_count": 9,
   "metadata": {},
   "outputs": [],
   "source": [
    "from sklearn.linear_model import LinearRegression"
   ]
  },
  {
   "cell_type": "code",
   "execution_count": 10,
   "metadata": {},
   "outputs": [
    {
     "data": {
      "text/plain": [
       "LinearRegression(copy_X=True, fit_intercept=True, n_jobs=None, normalize=False)"
      ]
     },
     "execution_count": 10,
     "metadata": {},
     "output_type": "execute_result"
    }
   ],
   "source": [
    "model = LinearRegression(fit_intercept=True)\n",
    "model.fit(X_train,y_train)"
   ]
  },
  {
   "cell_type": "code",
   "execution_count": 11,
   "metadata": {},
   "outputs": [
    {
     "name": "stdout",
     "output_type": "stream",
     "text": [
      "predict y: [2227.2355478  1074.25208918  712.1910537    34.88190378 1609.78353105\n",
      " 2368.72569126 1732.37031399]\n",
      "\n",
      "grounf truth: [2320.38462  1000.27778   686.216216   60.       1480.       2412.65537\n",
      " 1680.      ]\n"
     ]
    }
   ],
   "source": [
    "predict_y = model.predict(X_test)\n",
    "print('predict y:',predict_y)\n",
    "print()\n",
    "print(\"grounf truth:\",y_test)"
   ]
  },
  {
   "cell_type": "markdown",
   "metadata": {},
   "source": [
    "### Power Class"
   ]
  },
  {
   "cell_type": "code",
   "execution_count": 12,
   "metadata": {},
   "outputs": [
    {
     "name": "stdout",
     "output_type": "stream",
     "text": [
      "max_power : 2412.72727\n",
      "[0.0, 482.0, 964.0, 1446.0, 1928.0, 2412.72727]\n"
     ]
    }
   ],
   "source": [
    "max_power = max(y)\n",
    "power_class = []\n",
    "print('max_power :',max_power)\n",
    "div = max_power//5\n",
    "for i in range(0,5):\n",
    "    power_class.append(div*i) \n",
    "power_class.append(max_power)\n",
    "print(power_class)"
   ]
  },
  {
   "cell_type": "markdown",
   "metadata": {},
   "source": [
    "### Power Y to Class"
   ]
  },
  {
   "cell_type": "code",
   "execution_count": 13,
   "metadata": {},
   "outputs": [],
   "source": [
    "def power2class(power_class,arr):\n",
    "    arr_class = []\n",
    "    for i in range(len(arr)):\n",
    "        for j in range(len(power_class)):\n",
    "            if arr[i]>power_class[j] and arr[i] < power_class[j+1]:\n",
    "                arr_class.append(j)\n",
    "                break\n",
    "            elif arr[i] > power_class[len(power_class)-1] :\n",
    "                arr_class.append(len(power_class)-1)\n",
    "                break\n",
    "    return arr_class"
   ]
  },
  {
   "cell_type": "code",
   "execution_count": 24,
   "metadata": {},
   "outputs": [
    {
     "name": "stdout",
     "output_type": "stream",
     "text": [
      "After tranfer number to class..\n",
      "Answer : [4, 2, 1, 0, 3, 4, 3]\n",
      "Predict: [4, 2, 1, 0, 3, 4, 3]\n"
     ]
    }
   ],
   "source": [
    "predict_y_class = power2class(power_class,predict_y)\n",
    "test_y_class = power2class(power_class,y_test)\n",
    "\n",
    "print('After tranfer number to class..')\n",
    "print('Answer :',test_y_class)\n",
    "print('Predict:',predict_y_class)\n"
   ]
  },
  {
   "cell_type": "markdown",
   "metadata": {},
   "source": [
    "### confusion_matrix\n"
   ]
  },
  {
   "cell_type": "code",
   "execution_count": 39,
   "metadata": {},
   "outputs": [],
   "source": [
    "from sklearn.metrics import confusion_matrix\n",
    "import matplotlib.pyplot as plt\n",
    "import itertools\n",
    "\n",
    "\n",
    "class_labels = []\n",
    "for i in range(len(power_class)-1):\n",
    "    class_labels.append(i)\n",
    "\n",
    "cm = confusion_matrix(test_y_class,predict_y_class,labels=class_labels)\n"
   ]
  },
  {
   "cell_type": "code",
   "execution_count": 40,
   "metadata": {},
   "outputs": [],
   "source": [
    "def plot_confusion_matrix(cm, classes,\n",
    "                          normalize=False,\n",
    "                          title='Confusion matrix',\n",
    "                          cmap=plt.cm.Blues):\n",
    "    \"\"\"\n",
    "    This function prints and plots the confusion matrix.\n",
    "    Normalization can be applied by setting `normalize=True`.\n",
    "    \"\"\"\n",
    "    plt.imshow(cm, interpolation='nearest', cmap=cmap)\n",
    "    plt.title(title)\n",
    "    plt.colorbar()\n",
    "    tick_marks = np.arange(len(classes))\n",
    "    plt.xticks(tick_marks, classes, rotation=45)\n",
    "    plt.yticks(tick_marks, classes)\n",
    "\n",
    "    if normalize:\n",
    "        cm = cm.astype('float') / cm.sum(axis=1)[:, np.newaxis]\n",
    "        print(\"Normalized confusion matrix\")\n",
    "    else:\n",
    "        print('Confusion matrix, without normalization')\n",
    "\n",
    "    print(cm)\n",
    "\n",
    "    thresh = cm.max() / 2.\n",
    "    for i, j in itertools.product(range(cm.shape[0]), range(cm.shape[1])):\n",
    "        plt.text(j, i, cm[i, j],\n",
    "                 horizontalalignment=\"center\",\n",
    "                 color=\"white\" if cm[i, j] > thresh else \"black\")\n",
    "\n",
    "    plt.tight_layout()\n",
    "    plt.ylabel('True label')\n",
    "    plt.xlabel('Predicted label')\n",
    "\n"
   ]
  },
  {
   "cell_type": "code",
   "execution_count": 41,
   "metadata": {},
   "outputs": [
    {
     "data": {
      "text/plain": [
       "array([[1, 0, 0, 0, 0],\n",
       "       [0, 1, 0, 0, 0],\n",
       "       [0, 0, 1, 0, 0],\n",
       "       [0, 0, 0, 2, 0],\n",
       "       [0, 0, 0, 0, 2]])"
      ]
     },
     "execution_count": 41,
     "metadata": {},
     "output_type": "execute_result"
    }
   ],
   "source": [
    "cm"
   ]
  },
  {
   "cell_type": "code",
   "execution_count": 42,
   "metadata": {},
   "outputs": [
    {
     "name": "stdout",
     "output_type": "stream",
     "text": [
      "Confusion matrix, without normalization\n",
      "[[1 0 0 0 0]\n",
      " [0 1 0 0 0]\n",
      " [0 0 1 0 0]\n",
      " [0 0 0 2 0]\n",
      " [0 0 0 0 2]]\n",
      "Normalized confusion matrix\n",
      "[[1. 0. 0. 0. 0.]\n",
      " [0. 1. 0. 0. 0.]\n",
      " [0. 0. 1. 0. 0.]\n",
      " [0. 0. 0. 1. 0.]\n",
      " [0. 0. 0. 0. 1.]]\n"
     ]
    },
    {
     "data": {
      "image/png": "[encoded data removed]",
      "text/plain": [
       "<Figure size 432x288 with 2 Axes>"
      ]
     },
     "metadata": {
      "needs_background": "light"
     },
     "output_type": "display_data"
    },
    {
     "data": {
      "image/png": "[encoded data removed]",
      "text/plain": [
       "<Figure size 432x288 with 2 Axes>"
      ]
     },
     "metadata": {
      "needs_background": "light"
     },
     "output_type": "display_data"
    }
   ],
   "source": [
    "\n",
    "# Plot non-normalized confusion matrix\n",
    "plt.figure()\n",
    "plot_confusion_matrix(cm, classes=class_labels,\n",
    "                      title='Confusion matrix, without normalization')\n",
    "\n",
    "# Plot normalized confusion matrix\n",
    "plt.figure()\n",
    "plot_confusion_matrix(cm, classes=class_labels, normalize=True,\n",
    "                      title='Normalized confusion matrix')\n",
    "\n",
    "plt.show()"
   ]
  },
  {
   "cell_type": "code",
   "execution_count": null,
   "metadata": {},
   "outputs": [],
   "source": []
  }
 ],
 "metadata": {
  "kernelspec": {
   "display_name": "Python 3",
   "language": "python",
   "name": "python3"
  },
  "language_info": {
   "codemirror_mode": {
    "name": "ipython",
    "version": 3
   },
   "file_extension": ".py",
   "mimetype": "text/x-python",
   "name": "python",
   "nbconvert_exporter": "python",
   "pygments_lexer": "ipython3",
   "version": "3.7.5"
  }
 },
 "nbformat": 4,
 "nbformat_minor": 4
}
